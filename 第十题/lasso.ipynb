{
 "cells": [
  {
   "cell_type": "code",
   "execution_count": 26,
   "metadata": {},
   "outputs": [
    {
     "name": "stdout",
     "output_type": "stream",
     "text": [
      "\n",
      "\n",
      "Lasso Regression\n",
      "The model performance\n",
      "--------------------------------------\n",
      "RMSE is 1.7254881574505068\n",
      "R2 score is 0.9895417882249093\n",
      "\n",
      "\n"
     ]
    },
    {
     "data": {
      "text/plain": [
       "array([0.52210466, 0.04328368, 0.        , 0.        , 0.24046881,\n",
       "       0.02862188, 0.        , 0.12380628, 0.02690111, 0.04388048])"
      ]
     },
     "execution_count": 26,
     "metadata": {},
     "output_type": "execute_result"
    },
    {
     "data": {
      "image/png": "[encoded data removed]",
      "text/plain": [
       "<Figure size 432x288 with 1 Axes>"
      ]
     },
     "metadata": {
      "needs_background": "light"
     },
     "output_type": "display_data"
    }
   ],
   "source": [
    "%matplotlib inline\n",
    "import pandas as pd\n",
    "import numpy as np\n",
    "import matplotlib.pyplot as plt\n",
    "from sklearn.preprocessing import MinMaxScaler\n",
    "from sklearn.metrics import r2_score, mean_squared_error\n",
    "from sklearn.linear_model import Lasso\n",
    "data = pd.read_excel('/Users/Dell/Desktop/data.xlsx')\n",
    "X = data.iloc[:, 2:]\n",
    "Y = data[['SZ index']]\n",
    "mm = MinMaxScaler()\n",
    "X = mm.fit_transform(X)\n",
    "Y = mm.fit_transform(Y)\n",
    "model = Lasso(alpha = 0.002)\n",
    "model.fit(X, Y)\n",
    "Y_predict = model.predict(X)\n",
    "Y_predict = Y_predict.reshape(-1,1)\n",
    "Y = mm.inverse_transform(Y)\n",
    "Y_predict = mm.inverse_transform(Y_predict)\n",
    "rmse = (np.sqrt(mean_squared_error(Y, Y_predict)))\n",
    "r2 = r2_score(Y, Y_predict)\n",
    "print(\"\\n\")\n",
    "print('Lasso Regression')\n",
    "print(\"The model performance\")\n",
    "print(\"--------------------------------------\")\n",
    "print('RMSE is {}'.format(rmse))\n",
    "print('R2 score is {}'.format(r2))\n",
    "print(\"\\n\")\n",
    "plt.plot(Y, Y_predict, 'o')\n",
    "plt.xlabel('observed concentrations')\n",
    "plt.ylabel('predicted concentrations')\n",
    "coef = model.coef_\n",
    "coef"
   ]
  },
  {
   "cell_type": "code",
   "execution_count": null,
   "metadata": {},
   "outputs": [],
   "source": []
  }
 ],
 "metadata": {
  "kernelspec": {
   "display_name": "Python 3",
   "language": "python",
   "name": "python3"
  },
  "language_info": {
   "codemirror_mode": {
    "name": "ipython",
    "version": 3
   },
   "file_extension": ".py",
   "mimetype": "text/x-python",
   "name": "python",
   "nbconvert_exporter": "python",
   "pygments_lexer": "ipython3",
   "version": "3.8.3"
  }
 },
 "nbformat": 4,
 "nbformat_minor": 4
}
